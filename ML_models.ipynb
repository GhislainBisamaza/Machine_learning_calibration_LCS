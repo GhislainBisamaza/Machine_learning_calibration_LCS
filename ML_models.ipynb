{
  "nbformat": 4,
  "nbformat_minor": 0,
  "metadata": {
    "colab": {
      "provenance": [],
      "authorship_tag": "ABX9TyM21z4DCwnS0g0kXe3AwMf6",
      "include_colab_link": true
    },
    "kernelspec": {
      "name": "python3",
      "display_name": "Python 3"
    },
    "language_info": {
      "name": "python"
    }
  },
  "cells": [
    {
      "cell_type": "markdown",
      "metadata": {
        "id": "view-in-github",
        "colab_type": "text"
      },
      "source": [
        "<a href=\"https://colab.research.google.com/github/GhislainBisamaza/Machine_learning_calibration_LCS/blob/main/ML_models.ipynb\" target=\"_parent\"><img src=\"https://colab.research.google.com/assets/colab-badge.svg\" alt=\"Open In Colab\"/></a>"
      ]
    },
    {
      "cell_type": "code",
      "execution_count": null,
      "metadata": {
        "id": "EwnAndZcmLmx"
      },
      "outputs": [],
      "source": []
    },
    {
      "cell_type": "code",
      "source": [
        "sensor_type = ['bme_average', 'hdc_average', 'htu_average', 'sht_average']\n",
        "temperature_sensor_performance = {}\n",
        "for sensor in sensor_type:\n",
        "    difference_df = temperature_data_df[['temperature S001544 (degrees Celsius)',sensor]]\n",
        "    difference_df = difference_df.dropna()\n",
        "    temperature_sensor_performance[sensor] = mean_absolute_error(difference_df['temperature S001544 (degrees Celsius)'],difference_df[sensor])\n",
        "temperature_sensor_performance_df = pd.DataFrame(temperature_sensor_performance, index=[\"Temperature Sensor Errors\"])\n",
        "print(\"==================================================================================\")\n",
        "print(\"= Temperature Sensor Errors compared to the reference temperature S001544 sensor =\")\n",
        "print(\"==================================================================================\")\n",
        "temperature_sensor_performance_df"
      ],
      "metadata": {
        "id": "VODH3XNumQzi"
      },
      "execution_count": null,
      "outputs": []
    },
    {
      "cell_type": "code",
      "source": [],
      "metadata": {
        "id": "BTujlVsamQ1y"
      },
      "execution_count": null,
      "outputs": []
    },
    {
      "cell_type": "code",
      "source": [
        "sensor_type = ['bme_1','bme_2','bme_3','hdc_1','hdc_2','htu_1','htu_2','htu_3','sht_1','sht_2','sht_3']\n",
        "temperature_sensor_performance = {}\n",
        "for sensor in sensor_type:\n",
        "    difference_df = temperature_data_df[['temperature S001544 (degrees Celsius)',sensor]]\n",
        "    difference_df = difference_df.dropna()\n",
        "    temperature_sensor_performance[sensor] = mean_absolute_error(difference_df['temperature S001544 (degrees Celsius)'],difference_df[sensor])\n",
        "temperature_sensor_performance_df = pd.DataFrame(temperature_sensor_performance, index=[\"Temperature Sensor Errors\"])\n",
        "print(\"==================================================================================\")\n",
        "print(\"= Temperature Sensor Errors compared to the reference temperature S001544 sensor =\")\n",
        "print(\"==================================================================================\")\n",
        "temperature_sensor_performance_df"
      ],
      "metadata": {
        "id": "wsRUm-lAmQ4H"
      },
      "execution_count": null,
      "outputs": []
    },
    {
      "cell_type": "code",
      "source": [],
      "metadata": {
        "id": "-t7N23QEmQ6R"
      },
      "execution_count": null,
      "outputs": []
    },
    {
      "cell_type": "code",
      "source": [
        "sensor_type = ['bme_average', 'hdc_average', 'htu_average', 'sht_average']\n",
        "humidity_sensor_performance = {}\n",
        "for sensor in sensor_type:\n",
        "    difference_df = humidity_data_df[['relativehumidity S001544 (-)',sensor]]\n",
        "    difference_df = difference_df.dropna()\n",
        "    humidity_sensor_performance[sensor] = mean_absolute_error(difference_df['relativehumidity S001544 (-)'],difference_df[sensor])\n",
        "humidity_sensor_performance_df = pd.DataFrame(humidity_sensor_performance, index=[\"Humidity Sensor Errors\"])\n",
        "print(\"=====================================================================================\")\n",
        "print(\"= Humidity Sensor Errors compared to the reference relative humidity S001544 sensor =\")\n",
        "print(\"=====================================================================================\")\n",
        "humidity_sensor_performance_df"
      ],
      "metadata": {
        "id": "7i9jz5_lmQ8O"
      },
      "execution_count": null,
      "outputs": []
    },
    {
      "cell_type": "code",
      "source": [],
      "metadata": {
        "id": "-vAsQ9c7mQ-P"
      },
      "execution_count": null,
      "outputs": []
    },
    {
      "cell_type": "code",
      "source": [
        "sensor_type = ['bme_1','bme_2','bme_3','hdc_1','hdc_2','htu_1','htu_2','htu_3','sht_1','sht_2','sht_3']\n",
        "humidity_sensor_performance = {}\n",
        "for sensor in sensor_type:\n",
        "    difference_df = humidity_data_df[['relativehumidity S001544 (-)',sensor]]\n",
        "    difference_df = difference_df.dropna()\n",
        "    humidity_sensor_performance[sensor] = mean_absolute_error(difference_df['relativehumidity S001544 (-)'],difference_df[sensor])\n",
        "humidity_sensor_performance_df = pd.DataFrame(humidity_sensor_performance, index=[\"Humidity Sensor Errors\"])\n",
        "print(\"=====================================================================================\")\n",
        "print(\"= Humidity Sensor Errors compared to the reference relative humidity S001544 sensor =\")\n",
        "print(\"=====================================================================================\")\n",
        "humidity_sensor_performance_df"
      ],
      "metadata": {
        "id": "WRGXPuE2mRAh"
      },
      "execution_count": null,
      "outputs": []
    },
    {
      "cell_type": "code",
      "source": [],
      "metadata": {
        "id": "76rF--OqmjKr"
      },
      "execution_count": null,
      "outputs": []
    },
    {
      "cell_type": "code",
      "source": [
        "train_start_date = \"2021-12-01\"\n",
        "train_end_date =\"2022-06-30\"\n",
        "test_start_date = \"2021-10-04\"\n",
        "test_end_date = \"2021-10-14\"\n",
        "train_data = selected_sensor.loc[train_start_date:train_end_date]\n",
        "test_data = selected_sensor.loc[test_start_date:test_end_date]\n",
        "X_train = train_data[[\"hdc_average\"]]\n",
        "y_train = train_data[\"temperature S001544 (degrees Celsius)\"]\n",
        "X_test = test_data[[\"hdc_average\"]]\n",
        "y_test = test_data[\"temperature S001544 (degrees Celsius)\"]"
      ],
      "metadata": {
        "id": "xUMhPBlUmjMz"
      },
      "execution_count": null,
      "outputs": []
    },
    {
      "cell_type": "code",
      "source": [
        "model_lr = LinearRegression().fit(X_train,y_train)\n",
        "prediction_model_lr = model_lr.predict(X_test)\n",
        "performance_model_lr = mean_absolute_error(prediction_model_lr,y_test)\n",
        "print(\"The Mean Absolute Error of the Linear regression model: \",performance_model_lr)"
      ],
      "metadata": {
        "id": "jLren9P8mjO6"
      },
      "execution_count": null,
      "outputs": []
    },
    {
      "cell_type": "code",
      "source": [
        "model_dt = DecisionTreeRegressor().fit(X_train,y_train)\n",
        "prediction_model_dt = model_dt.predict(X_test)\n",
        "performance_model_dt = mean_absolute_error(prediction_model_dt,y_test)\n",
        "print(\"The Mean Absolute Error of the Decision Tree model: \",performance_model_dt)"
      ],
      "metadata": {
        "id": "UE0AN6gumjRO"
      },
      "execution_count": null,
      "outputs": []
    },
    {
      "cell_type": "code",
      "source": [],
      "metadata": {
        "id": "lgL_J0_qmjTC"
      },
      "execution_count": null,
      "outputs": []
    },
    {
      "cell_type": "code",
      "source": [
        "model_rf = RandomForestRegressor(n_estimators=100, random_state=42).fit(X_train,y_train)\n",
        "prediction_model_rf = model_rf.predict(X_test)\n",
        "performance_model_rf = mean_absolute_error(prediction_model_rf,y_test)\n",
        "print(\"The Mean Absolute Error of the Random forest model: \",performance_model_rf)"
      ],
      "metadata": {
        "id": "Fer6N0bbmjWH"
      },
      "execution_count": null,
      "outputs": []
    },
    {
      "cell_type": "code",
      "source": [],
      "metadata": {
        "id": "dAySuY4HmRCX"
      },
      "execution_count": null,
      "outputs": []
    },
    {
      "cell_type": "code",
      "source": [
        "test_data[\"Prediction Linear Regression\"] = prediction_model_lr\n",
        "test_data[\"Prediction Decision Tree\"] = prediction_model_dt\n",
        "test_data[\"Prediction Random Forest\"] = prediction_model_rf\n",
        "test_data.iplot()"
      ],
      "metadata": {
        "id": "f40dwpYWmRF9"
      },
      "execution_count": null,
      "outputs": []
    },
    {
      "cell_type": "code",
      "source": [],
      "metadata": {
        "id": "IQc2nCGlmyHv"
      },
      "execution_count": null,
      "outputs": []
    },
    {
      "cell_type": "code",
      "source": [
        "hum_selected_sensor = humidity_data_df[['sht_1','sht_2','sht_3','sht_average','relativehumidity S001544 (-)']].dropna()\n",
        "hum_selected_sensor.iplot()"
      ],
      "metadata": {
        "id": "XBsYnUV-myJr"
      },
      "execution_count": null,
      "outputs": []
    },
    {
      "cell_type": "code",
      "source": [],
      "metadata": {
        "id": "xjvC-Tegmy8b"
      },
      "execution_count": null,
      "outputs": []
    },
    {
      "cell_type": "code",
      "source": [
        "train_start_date = \"2021-12-01\"\n",
        "train_end_date =\"2022-06-30\"\n",
        "test_start_date = \"2021-10-04\"\n",
        "test_end_date = \"2021-10-14\"\n",
        "train_data = hum_selected_sensor.loc[train_start_date:train_end_date]\n",
        "test_data = hum_selected_sensor.loc[test_start_date:test_end_date]\n",
        "X_train = train_data[['sht_average']]\n",
        "y_train = train_data['relativehumidity S001544 (-)']\n",
        "X_test = test_data[['sht_average']]\n",
        "y_test = test_data['relativehumidity S001544 (-)']"
      ],
      "metadata": {
        "id": "KQGpODTLmy__"
      },
      "execution_count": null,
      "outputs": []
    },
    {
      "cell_type": "code",
      "source": [
        "model_lr = LinearRegression().fit(X_train,y_train)\n",
        "prediction_model_lr = model_lr.predict(X_test)\n",
        "performance_model_lr = mean_absolute_error(prediction_model_lr,y_test)\n",
        "print(\"The Mean Absolute Error of the Linear regression model: \",performance_model_lr)"
      ],
      "metadata": {
        "id": "9FHUNQbXmyL9"
      },
      "execution_count": null,
      "outputs": []
    },
    {
      "cell_type": "code",
      "source": [
        "model_dt = DecisionTreeRegressor().fit(X_train,y_train)\n",
        "prediction_model_dt = model_dt.predict(X_test)\n",
        "performance_model_dt = mean_absolute_error(prediction_model_dt,y_test)\n",
        "print(\"The Mean Absolute Error of the Decision Tree model: \",performance_model_dt)"
      ],
      "metadata": {
        "id": "3bB2AkSVm8PE"
      },
      "execution_count": null,
      "outputs": []
    },
    {
      "cell_type": "code",
      "source": [
        "model_rf = RandomForestRegressor(n_estimators=100, random_state=42).fit(X_train,y_train)\n",
        "prediction_model_rf = model_rf.predict(X_test)\n",
        "performance_model_rf = mean_absolute_error(prediction_model_rf,y_test)\n",
        "print(\"The Mean Absolute Error of the Random forest model: \",performance_model_rf)"
      ],
      "metadata": {
        "id": "xq6AYbmLm8RP"
      },
      "execution_count": null,
      "outputs": []
    },
    {
      "cell_type": "code",
      "source": [
        "def get_model_performance(df):\n",
        "    sensor_types = list(df.columns)\n",
        "    sensor_types.remove('relativehumidity S001544 (-)')\n",
        "    results_df = {}\n",
        "    model_type_list = []\n",
        "    sensor_type_list = []\n",
        "    mae_list =[]\n",
        "    mse_list =[]\n",
        "    r2_list = []\n",
        "\n",
        "    linear_regressor = LinearRegression()\n",
        "    decision_tree_regressor = DecisionTreeRegressor()\n",
        "    random_forest_regressor = RandomForestRegressor(n_estimators=100, random_state=42)\n",
        "    models_list = [linear_regressor, random_forest_regressor, decision_tree_regressor]\n",
        "\n",
        "    for sensor_type in sensor_types:\n",
        "        X=df[[sensor_type]]\n",
        "        y=df['relativehumidity S001544 (-)']\n",
        "        X_train, X_test, y_train, y_test = train_test_split(X, y, test_size=0.2, random_state=42)\n",
        "        for model in models_list:\n",
        "            # print(\"{} model Performance Using {} sensor type\".format(str(model),sensor_type))\n",
        "            # print(\"==================================================\")\n",
        "            model.fit(X_train,y_train)\n",
        "            prediction = model.predict(X_test)\n",
        "            model_mae = mean_absolute_error(y_test,prediction)\n",
        "            #print(\"The mean absolute error is: \",model_mae)\n",
        "            model_mse = mean_squared_error(y_test,prediction)\n",
        "            #print(\"The mean squared error is: \",model_mse)\n",
        "            model_r2 = r2_score(y_test,prediction)\n",
        "            #print(\"The R-squared of the model is: \",model_r2)\n",
        "            # print(\"\")\n",
        "            # print(\"\")\n",
        "\n",
        "            sensor_type_list.append(sensor_type)\n",
        "            model_type_list.append(format(str(model)))\n",
        "            mae_list.append(model_mae)\n",
        "            mse_list.append(model_mse)\n",
        "            r2_list.append(model_r2)\n",
        "\n",
        "    results_df[\"Sensor Type\"] = sensor_type_list\n",
        "    results_df[\"Model Type\"] = model_type_list\n",
        "    results_df[\"MEA\"] = mae_list\n",
        "    results_df[\"MSE\"] = mse_list\n",
        "    results_df[\"R-squared\"] = r2_list\n",
        "    results_df = pd.DataFrame(results_df, index=None)\n",
        "\n",
        "    return results_df"
      ],
      "metadata": {
        "id": "g4EG5kTWm8TS"
      },
      "execution_count": null,
      "outputs": []
    },
    {
      "cell_type": "code",
      "source": [],
      "metadata": {
        "id": "Z87ld0Cgm8VU"
      },
      "execution_count": null,
      "outputs": []
    },
    {
      "cell_type": "code",
      "source": [],
      "metadata": {
        "id": "4llVS8-7m8Xg"
      },
      "execution_count": null,
      "outputs": []
    },
    {
      "cell_type": "code",
      "source": [],
      "metadata": {
        "id": "uocbmNO8m8Zo"
      },
      "execution_count": null,
      "outputs": []
    },
    {
      "cell_type": "code",
      "source": [],
      "metadata": {
        "id": "YArTI1KQm8bz"
      },
      "execution_count": null,
      "outputs": []
    },
    {
      "cell_type": "code",
      "source": [],
      "metadata": {
        "id": "4hTojEzPm8eV"
      },
      "execution_count": null,
      "outputs": []
    },
    {
      "cell_type": "code",
      "source": [],
      "metadata": {
        "id": "FWTpbJq7m8he"
      },
      "execution_count": null,
      "outputs": []
    },
    {
      "cell_type": "code",
      "source": [],
      "metadata": {
        "id": "-ni1ZuGBmyPW"
      },
      "execution_count": null,
      "outputs": []
    }
  ]
}